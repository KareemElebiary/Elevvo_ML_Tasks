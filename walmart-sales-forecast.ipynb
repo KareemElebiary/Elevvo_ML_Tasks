{
 "cells": [
  {
   "cell_type": "code",
   "execution_count": 1,
   "id": "2a6392c1",
   "metadata": {
    "execution": {
     "iopub.execute_input": "2025-08-25T23:22:21.223195Z",
     "iopub.status.busy": "2025-08-25T23:22:21.222889Z",
     "iopub.status.idle": "2025-08-25T23:22:24.581047Z",
     "shell.execute_reply": "2025-08-25T23:22:24.580306Z"
    },
    "papermill": {
     "duration": 3.366762,
     "end_time": "2025-08-25T23:22:24.582790",
     "exception": false,
     "start_time": "2025-08-25T23:22:21.216028",
     "status": "completed"
    },
    "tags": []
   },
   "outputs": [],
   "source": [
    "import pandas as pd\n",
    "import numpy as np\n",
    "from sklearn.preprocessing import LabelEncoder\n",
    "from sklearn.ensemble import RandomForestRegressor\n",
    "from sklearn.metrics import mean_squared_error\n",
    "from sklearn.impute import SimpleImputer\n",
    "from sklearn.metrics import r2_score"
   ]
  },
  {
   "cell_type": "code",
   "execution_count": 2,
   "id": "6597080a",
   "metadata": {
    "_cell_guid": "b1076dfc-b9ad-4769-8c92-a6c4dae69d19",
    "_uuid": "8f2839f25d086af736a60e9eeb907d3b93b6e0e5",
    "execution": {
     "iopub.execute_input": "2025-08-25T23:22:24.592370Z",
     "iopub.status.busy": "2025-08-25T23:22:24.592000Z",
     "iopub.status.idle": "2025-08-25T23:22:25.007916Z",
     "shell.execute_reply": "2025-08-25T23:22:25.007182Z"
    },
    "papermill": {
     "duration": 0.422145,
     "end_time": "2025-08-25T23:22:25.009412",
     "exception": false,
     "start_time": "2025-08-25T23:22:24.587267",
     "status": "completed"
    },
    "tags": []
   },
   "outputs": [],
   "source": [
    "train = pd.read_csv('/kaggle/input/walmart-sales-forecast/train.csv')\n",
    "test = pd.read_csv('/kaggle/input/walmart-sales-forecast/test.csv')\n",
    "features = pd.read_csv('/kaggle/input/walmart-sales-forecast/features.csv')\n",
    "stores = pd.read_csv('/kaggle/input/walmart-sales-forecast/stores.csv')"
   ]
  },
  {
   "cell_type": "code",
   "execution_count": 3,
   "id": "d52111af",
   "metadata": {
    "execution": {
     "iopub.execute_input": "2025-08-25T23:22:25.019039Z",
     "iopub.status.busy": "2025-08-25T23:22:25.018342Z",
     "iopub.status.idle": "2025-08-25T23:22:25.041623Z",
     "shell.execute_reply": "2025-08-25T23:22:25.040766Z"
    },
    "papermill": {
     "duration": 0.029429,
     "end_time": "2025-08-25T23:22:25.043140",
     "exception": false,
     "start_time": "2025-08-25T23:22:25.013711",
     "status": "completed"
    },
    "tags": []
   },
   "outputs": [
    {
     "data": {
      "text/html": [
       "<div>\n",
       "<style scoped>\n",
       "    .dataframe tbody tr th:only-of-type {\n",
       "        vertical-align: middle;\n",
       "    }\n",
       "\n",
       "    .dataframe tbody tr th {\n",
       "        vertical-align: top;\n",
       "    }\n",
       "\n",
       "    .dataframe thead th {\n",
       "        text-align: right;\n",
       "    }\n",
       "</style>\n",
       "<table border=\"1\" class=\"dataframe\">\n",
       "  <thead>\n",
       "    <tr style=\"text-align: right;\">\n",
       "      <th></th>\n",
       "      <th>Store</th>\n",
       "      <th>Dept</th>\n",
       "      <th>Date</th>\n",
       "      <th>Weekly_Sales</th>\n",
       "      <th>IsHoliday</th>\n",
       "    </tr>\n",
       "  </thead>\n",
       "  <tbody>\n",
       "    <tr>\n",
       "      <th>0</th>\n",
       "      <td>1</td>\n",
       "      <td>1</td>\n",
       "      <td>2010-02-05</td>\n",
       "      <td>24924.50</td>\n",
       "      <td>False</td>\n",
       "    </tr>\n",
       "    <tr>\n",
       "      <th>1</th>\n",
       "      <td>1</td>\n",
       "      <td>1</td>\n",
       "      <td>2010-02-12</td>\n",
       "      <td>46039.49</td>\n",
       "      <td>True</td>\n",
       "    </tr>\n",
       "    <tr>\n",
       "      <th>2</th>\n",
       "      <td>1</td>\n",
       "      <td>1</td>\n",
       "      <td>2010-02-19</td>\n",
       "      <td>41595.55</td>\n",
       "      <td>False</td>\n",
       "    </tr>\n",
       "    <tr>\n",
       "      <th>3</th>\n",
       "      <td>1</td>\n",
       "      <td>1</td>\n",
       "      <td>2010-02-26</td>\n",
       "      <td>19403.54</td>\n",
       "      <td>False</td>\n",
       "    </tr>\n",
       "    <tr>\n",
       "      <th>4</th>\n",
       "      <td>1</td>\n",
       "      <td>1</td>\n",
       "      <td>2010-03-05</td>\n",
       "      <td>21827.90</td>\n",
       "      <td>False</td>\n",
       "    </tr>\n",
       "  </tbody>\n",
       "</table>\n",
       "</div>"
      ],
      "text/plain": [
       "   Store  Dept        Date  Weekly_Sales  IsHoliday\n",
       "0      1     1  2010-02-05      24924.50      False\n",
       "1      1     1  2010-02-12      46039.49       True\n",
       "2      1     1  2010-02-19      41595.55      False\n",
       "3      1     1  2010-02-26      19403.54      False\n",
       "4      1     1  2010-03-05      21827.90      False"
      ]
     },
     "execution_count": 3,
     "metadata": {},
     "output_type": "execute_result"
    }
   ],
   "source": [
    "train.head()\n"
   ]
  },
  {
   "cell_type": "code",
   "execution_count": 4,
   "id": "bfef3958",
   "metadata": {
    "execution": {
     "iopub.execute_input": "2025-08-25T23:22:25.052999Z",
     "iopub.status.busy": "2025-08-25T23:22:25.052719Z",
     "iopub.status.idle": "2025-08-25T23:22:25.061196Z",
     "shell.execute_reply": "2025-08-25T23:22:25.060309Z"
    },
    "papermill": {
     "duration": 0.01471,
     "end_time": "2025-08-25T23:22:25.062654",
     "exception": false,
     "start_time": "2025-08-25T23:22:25.047944",
     "status": "completed"
    },
    "tags": []
   },
   "outputs": [
    {
     "data": {
      "text/html": [
       "<div>\n",
       "<style scoped>\n",
       "    .dataframe tbody tr th:only-of-type {\n",
       "        vertical-align: middle;\n",
       "    }\n",
       "\n",
       "    .dataframe tbody tr th {\n",
       "        vertical-align: top;\n",
       "    }\n",
       "\n",
       "    .dataframe thead th {\n",
       "        text-align: right;\n",
       "    }\n",
       "</style>\n",
       "<table border=\"1\" class=\"dataframe\">\n",
       "  <thead>\n",
       "    <tr style=\"text-align: right;\">\n",
       "      <th></th>\n",
       "      <th>Store</th>\n",
       "      <th>Dept</th>\n",
       "      <th>Date</th>\n",
       "      <th>IsHoliday</th>\n",
       "    </tr>\n",
       "  </thead>\n",
       "  <tbody>\n",
       "    <tr>\n",
       "      <th>0</th>\n",
       "      <td>1</td>\n",
       "      <td>1</td>\n",
       "      <td>2012-11-02</td>\n",
       "      <td>False</td>\n",
       "    </tr>\n",
       "    <tr>\n",
       "      <th>1</th>\n",
       "      <td>1</td>\n",
       "      <td>1</td>\n",
       "      <td>2012-11-09</td>\n",
       "      <td>False</td>\n",
       "    </tr>\n",
       "    <tr>\n",
       "      <th>2</th>\n",
       "      <td>1</td>\n",
       "      <td>1</td>\n",
       "      <td>2012-11-16</td>\n",
       "      <td>False</td>\n",
       "    </tr>\n",
       "    <tr>\n",
       "      <th>3</th>\n",
       "      <td>1</td>\n",
       "      <td>1</td>\n",
       "      <td>2012-11-23</td>\n",
       "      <td>True</td>\n",
       "    </tr>\n",
       "    <tr>\n",
       "      <th>4</th>\n",
       "      <td>1</td>\n",
       "      <td>1</td>\n",
       "      <td>2012-11-30</td>\n",
       "      <td>False</td>\n",
       "    </tr>\n",
       "  </tbody>\n",
       "</table>\n",
       "</div>"
      ],
      "text/plain": [
       "   Store  Dept        Date  IsHoliday\n",
       "0      1     1  2012-11-02      False\n",
       "1      1     1  2012-11-09      False\n",
       "2      1     1  2012-11-16      False\n",
       "3      1     1  2012-11-23       True\n",
       "4      1     1  2012-11-30      False"
      ]
     },
     "execution_count": 4,
     "metadata": {},
     "output_type": "execute_result"
    }
   ],
   "source": [
    "test.head()\n"
   ]
  },
  {
   "cell_type": "code",
   "execution_count": 5,
   "id": "a948aafe",
   "metadata": {
    "execution": {
     "iopub.execute_input": "2025-08-25T23:22:25.072696Z",
     "iopub.status.busy": "2025-08-25T23:22:25.071817Z",
     "iopub.status.idle": "2025-08-25T23:22:25.087360Z",
     "shell.execute_reply": "2025-08-25T23:22:25.086393Z"
    },
    "papermill": {
     "duration": 0.021892,
     "end_time": "2025-08-25T23:22:25.088896",
     "exception": false,
     "start_time": "2025-08-25T23:22:25.067004",
     "status": "completed"
    },
    "tags": []
   },
   "outputs": [
    {
     "name": "stderr",
     "output_type": "stream",
     "text": [
      "/usr/local/lib/python3.11/dist-packages/pandas/io/formats/format.py:1458: RuntimeWarning: invalid value encountered in greater\n",
      "  has_large_values = (abs_vals > 1e6).any()\n",
      "/usr/local/lib/python3.11/dist-packages/pandas/io/formats/format.py:1459: RuntimeWarning: invalid value encountered in less\n",
      "  has_small_values = ((abs_vals < 10 ** (-self.digits)) & (abs_vals > 0)).any()\n",
      "/usr/local/lib/python3.11/dist-packages/pandas/io/formats/format.py:1459: RuntimeWarning: invalid value encountered in greater\n",
      "  has_small_values = ((abs_vals < 10 ** (-self.digits)) & (abs_vals > 0)).any()\n"
     ]
    },
    {
     "data": {
      "text/html": [
       "<div>\n",
       "<style scoped>\n",
       "    .dataframe tbody tr th:only-of-type {\n",
       "        vertical-align: middle;\n",
       "    }\n",
       "\n",
       "    .dataframe tbody tr th {\n",
       "        vertical-align: top;\n",
       "    }\n",
       "\n",
       "    .dataframe thead th {\n",
       "        text-align: right;\n",
       "    }\n",
       "</style>\n",
       "<table border=\"1\" class=\"dataframe\">\n",
       "  <thead>\n",
       "    <tr style=\"text-align: right;\">\n",
       "      <th></th>\n",
       "      <th>Store</th>\n",
       "      <th>Date</th>\n",
       "      <th>Temperature</th>\n",
       "      <th>Fuel_Price</th>\n",
       "      <th>MarkDown1</th>\n",
       "      <th>MarkDown2</th>\n",
       "      <th>MarkDown3</th>\n",
       "      <th>MarkDown4</th>\n",
       "      <th>MarkDown5</th>\n",
       "      <th>CPI</th>\n",
       "      <th>Unemployment</th>\n",
       "      <th>IsHoliday</th>\n",
       "    </tr>\n",
       "  </thead>\n",
       "  <tbody>\n",
       "    <tr>\n",
       "      <th>0</th>\n",
       "      <td>1</td>\n",
       "      <td>2010-02-05</td>\n",
       "      <td>42.31</td>\n",
       "      <td>2.572</td>\n",
       "      <td>NaN</td>\n",
       "      <td>NaN</td>\n",
       "      <td>NaN</td>\n",
       "      <td>NaN</td>\n",
       "      <td>NaN</td>\n",
       "      <td>211.096358</td>\n",
       "      <td>8.106</td>\n",
       "      <td>False</td>\n",
       "    </tr>\n",
       "    <tr>\n",
       "      <th>1</th>\n",
       "      <td>1</td>\n",
       "      <td>2010-02-12</td>\n",
       "      <td>38.51</td>\n",
       "      <td>2.548</td>\n",
       "      <td>NaN</td>\n",
       "      <td>NaN</td>\n",
       "      <td>NaN</td>\n",
       "      <td>NaN</td>\n",
       "      <td>NaN</td>\n",
       "      <td>211.242170</td>\n",
       "      <td>8.106</td>\n",
       "      <td>True</td>\n",
       "    </tr>\n",
       "    <tr>\n",
       "      <th>2</th>\n",
       "      <td>1</td>\n",
       "      <td>2010-02-19</td>\n",
       "      <td>39.93</td>\n",
       "      <td>2.514</td>\n",
       "      <td>NaN</td>\n",
       "      <td>NaN</td>\n",
       "      <td>NaN</td>\n",
       "      <td>NaN</td>\n",
       "      <td>NaN</td>\n",
       "      <td>211.289143</td>\n",
       "      <td>8.106</td>\n",
       "      <td>False</td>\n",
       "    </tr>\n",
       "    <tr>\n",
       "      <th>3</th>\n",
       "      <td>1</td>\n",
       "      <td>2010-02-26</td>\n",
       "      <td>46.63</td>\n",
       "      <td>2.561</td>\n",
       "      <td>NaN</td>\n",
       "      <td>NaN</td>\n",
       "      <td>NaN</td>\n",
       "      <td>NaN</td>\n",
       "      <td>NaN</td>\n",
       "      <td>211.319643</td>\n",
       "      <td>8.106</td>\n",
       "      <td>False</td>\n",
       "    </tr>\n",
       "    <tr>\n",
       "      <th>4</th>\n",
       "      <td>1</td>\n",
       "      <td>2010-03-05</td>\n",
       "      <td>46.50</td>\n",
       "      <td>2.625</td>\n",
       "      <td>NaN</td>\n",
       "      <td>NaN</td>\n",
       "      <td>NaN</td>\n",
       "      <td>NaN</td>\n",
       "      <td>NaN</td>\n",
       "      <td>211.350143</td>\n",
       "      <td>8.106</td>\n",
       "      <td>False</td>\n",
       "    </tr>\n",
       "  </tbody>\n",
       "</table>\n",
       "</div>"
      ],
      "text/plain": [
       "   Store        Date  Temperature  Fuel_Price  MarkDown1  MarkDown2  \\\n",
       "0      1  2010-02-05        42.31       2.572        NaN        NaN   \n",
       "1      1  2010-02-12        38.51       2.548        NaN        NaN   \n",
       "2      1  2010-02-19        39.93       2.514        NaN        NaN   \n",
       "3      1  2010-02-26        46.63       2.561        NaN        NaN   \n",
       "4      1  2010-03-05        46.50       2.625        NaN        NaN   \n",
       "\n",
       "   MarkDown3  MarkDown4  MarkDown5         CPI  Unemployment  IsHoliday  \n",
       "0        NaN        NaN        NaN  211.096358         8.106      False  \n",
       "1        NaN        NaN        NaN  211.242170         8.106       True  \n",
       "2        NaN        NaN        NaN  211.289143         8.106      False  \n",
       "3        NaN        NaN        NaN  211.319643         8.106      False  \n",
       "4        NaN        NaN        NaN  211.350143         8.106      False  "
      ]
     },
     "execution_count": 5,
     "metadata": {},
     "output_type": "execute_result"
    }
   ],
   "source": [
    "features.head()\n"
   ]
  },
  {
   "cell_type": "code",
   "execution_count": 6,
   "id": "958e6cd9",
   "metadata": {
    "execution": {
     "iopub.execute_input": "2025-08-25T23:22:25.100016Z",
     "iopub.status.busy": "2025-08-25T23:22:25.099743Z",
     "iopub.status.idle": "2025-08-25T23:22:25.113274Z",
     "shell.execute_reply": "2025-08-25T23:22:25.112679Z"
    },
    "papermill": {
     "duration": 0.020436,
     "end_time": "2025-08-25T23:22:25.114496",
     "exception": false,
     "start_time": "2025-08-25T23:22:25.094060",
     "status": "completed"
    },
    "tags": []
   },
   "outputs": [],
   "source": [
    "features.drop(['MarkDown1','MarkDown2','MarkDown3','MarkDown4','MarkDown5'],axis =1 , inplace = True )"
   ]
  },
  {
   "cell_type": "code",
   "execution_count": 7,
   "id": "eeacc72c",
   "metadata": {
    "execution": {
     "iopub.execute_input": "2025-08-25T23:22:25.124939Z",
     "iopub.status.busy": "2025-08-25T23:22:25.124663Z",
     "iopub.status.idle": "2025-08-25T23:22:25.132758Z",
     "shell.execute_reply": "2025-08-25T23:22:25.132047Z"
    },
    "papermill": {
     "duration": 0.014737,
     "end_time": "2025-08-25T23:22:25.133986",
     "exception": false,
     "start_time": "2025-08-25T23:22:25.119249",
     "status": "completed"
    },
    "tags": []
   },
   "outputs": [
    {
     "data": {
      "text/html": [
       "<div>\n",
       "<style scoped>\n",
       "    .dataframe tbody tr th:only-of-type {\n",
       "        vertical-align: middle;\n",
       "    }\n",
       "\n",
       "    .dataframe tbody tr th {\n",
       "        vertical-align: top;\n",
       "    }\n",
       "\n",
       "    .dataframe thead th {\n",
       "        text-align: right;\n",
       "    }\n",
       "</style>\n",
       "<table border=\"1\" class=\"dataframe\">\n",
       "  <thead>\n",
       "    <tr style=\"text-align: right;\">\n",
       "      <th></th>\n",
       "      <th>Store</th>\n",
       "      <th>Type</th>\n",
       "      <th>Size</th>\n",
       "    </tr>\n",
       "  </thead>\n",
       "  <tbody>\n",
       "    <tr>\n",
       "      <th>0</th>\n",
       "      <td>1</td>\n",
       "      <td>A</td>\n",
       "      <td>151315</td>\n",
       "    </tr>\n",
       "    <tr>\n",
       "      <th>1</th>\n",
       "      <td>2</td>\n",
       "      <td>A</td>\n",
       "      <td>202307</td>\n",
       "    </tr>\n",
       "    <tr>\n",
       "      <th>2</th>\n",
       "      <td>3</td>\n",
       "      <td>B</td>\n",
       "      <td>37392</td>\n",
       "    </tr>\n",
       "    <tr>\n",
       "      <th>3</th>\n",
       "      <td>4</td>\n",
       "      <td>A</td>\n",
       "      <td>205863</td>\n",
       "    </tr>\n",
       "    <tr>\n",
       "      <th>4</th>\n",
       "      <td>5</td>\n",
       "      <td>B</td>\n",
       "      <td>34875</td>\n",
       "    </tr>\n",
       "  </tbody>\n",
       "</table>\n",
       "</div>"
      ],
      "text/plain": [
       "   Store Type    Size\n",
       "0      1    A  151315\n",
       "1      2    A  202307\n",
       "2      3    B   37392\n",
       "3      4    A  205863\n",
       "4      5    B   34875"
      ]
     },
     "execution_count": 7,
     "metadata": {},
     "output_type": "execute_result"
    }
   ],
   "source": [
    "stores.head()"
   ]
  },
  {
   "cell_type": "code",
   "execution_count": 8,
   "id": "a05ee164",
   "metadata": {
    "execution": {
     "iopub.execute_input": "2025-08-25T23:22:25.145408Z",
     "iopub.status.busy": "2025-08-25T23:22:25.145102Z",
     "iopub.status.idle": "2025-08-25T23:22:25.157735Z",
     "shell.execute_reply": "2025-08-25T23:22:25.157047Z"
    },
    "papermill": {
     "duration": 0.019458,
     "end_time": "2025-08-25T23:22:25.159259",
     "exception": false,
     "start_time": "2025-08-25T23:22:25.139801",
     "status": "completed"
    },
    "tags": []
   },
   "outputs": [],
   "source": [
    "merged_df = features.merge(stores)\n"
   ]
  },
  {
   "cell_type": "code",
   "execution_count": 9,
   "id": "d6e1b582",
   "metadata": {
    "execution": {
     "iopub.execute_input": "2025-08-25T23:22:25.170810Z",
     "iopub.status.busy": "2025-08-25T23:22:25.170536Z",
     "iopub.status.idle": "2025-08-25T23:22:25.182672Z",
     "shell.execute_reply": "2025-08-25T23:22:25.181938Z"
    },
    "papermill": {
     "duration": 0.019113,
     "end_time": "2025-08-25T23:22:25.183936",
     "exception": false,
     "start_time": "2025-08-25T23:22:25.164823",
     "status": "completed"
    },
    "tags": []
   },
   "outputs": [
    {
     "data": {
      "text/html": [
       "<div>\n",
       "<style scoped>\n",
       "    .dataframe tbody tr th:only-of-type {\n",
       "        vertical-align: middle;\n",
       "    }\n",
       "\n",
       "    .dataframe tbody tr th {\n",
       "        vertical-align: top;\n",
       "    }\n",
       "\n",
       "    .dataframe thead th {\n",
       "        text-align: right;\n",
       "    }\n",
       "</style>\n",
       "<table border=\"1\" class=\"dataframe\">\n",
       "  <thead>\n",
       "    <tr style=\"text-align: right;\">\n",
       "      <th></th>\n",
       "      <th>Store</th>\n",
       "      <th>Date</th>\n",
       "      <th>Temperature</th>\n",
       "      <th>Fuel_Price</th>\n",
       "      <th>CPI</th>\n",
       "      <th>Unemployment</th>\n",
       "      <th>IsHoliday</th>\n",
       "      <th>Type</th>\n",
       "      <th>Size</th>\n",
       "    </tr>\n",
       "  </thead>\n",
       "  <tbody>\n",
       "    <tr>\n",
       "      <th>0</th>\n",
       "      <td>1</td>\n",
       "      <td>2010-02-05</td>\n",
       "      <td>42.31</td>\n",
       "      <td>2.572</td>\n",
       "      <td>211.096358</td>\n",
       "      <td>8.106</td>\n",
       "      <td>False</td>\n",
       "      <td>A</td>\n",
       "      <td>151315</td>\n",
       "    </tr>\n",
       "    <tr>\n",
       "      <th>1</th>\n",
       "      <td>1</td>\n",
       "      <td>2010-02-12</td>\n",
       "      <td>38.51</td>\n",
       "      <td>2.548</td>\n",
       "      <td>211.242170</td>\n",
       "      <td>8.106</td>\n",
       "      <td>True</td>\n",
       "      <td>A</td>\n",
       "      <td>151315</td>\n",
       "    </tr>\n",
       "    <tr>\n",
       "      <th>2</th>\n",
       "      <td>1</td>\n",
       "      <td>2010-02-19</td>\n",
       "      <td>39.93</td>\n",
       "      <td>2.514</td>\n",
       "      <td>211.289143</td>\n",
       "      <td>8.106</td>\n",
       "      <td>False</td>\n",
       "      <td>A</td>\n",
       "      <td>151315</td>\n",
       "    </tr>\n",
       "    <tr>\n",
       "      <th>3</th>\n",
       "      <td>1</td>\n",
       "      <td>2010-02-26</td>\n",
       "      <td>46.63</td>\n",
       "      <td>2.561</td>\n",
       "      <td>211.319643</td>\n",
       "      <td>8.106</td>\n",
       "      <td>False</td>\n",
       "      <td>A</td>\n",
       "      <td>151315</td>\n",
       "    </tr>\n",
       "    <tr>\n",
       "      <th>4</th>\n",
       "      <td>1</td>\n",
       "      <td>2010-03-05</td>\n",
       "      <td>46.50</td>\n",
       "      <td>2.625</td>\n",
       "      <td>211.350143</td>\n",
       "      <td>8.106</td>\n",
       "      <td>False</td>\n",
       "      <td>A</td>\n",
       "      <td>151315</td>\n",
       "    </tr>\n",
       "  </tbody>\n",
       "</table>\n",
       "</div>"
      ],
      "text/plain": [
       "   Store        Date  Temperature  Fuel_Price         CPI  Unemployment  \\\n",
       "0      1  2010-02-05        42.31       2.572  211.096358         8.106   \n",
       "1      1  2010-02-12        38.51       2.548  211.242170         8.106   \n",
       "2      1  2010-02-19        39.93       2.514  211.289143         8.106   \n",
       "3      1  2010-02-26        46.63       2.561  211.319643         8.106   \n",
       "4      1  2010-03-05        46.50       2.625  211.350143         8.106   \n",
       "\n",
       "   IsHoliday Type    Size  \n",
       "0      False    A  151315  \n",
       "1       True    A  151315  \n",
       "2      False    A  151315  \n",
       "3      False    A  151315  \n",
       "4      False    A  151315  "
      ]
     },
     "execution_count": 9,
     "metadata": {},
     "output_type": "execute_result"
    }
   ],
   "source": [
    "merged_df.head()"
   ]
  },
  {
   "cell_type": "code",
   "execution_count": 10,
   "id": "2eb54213",
   "metadata": {
    "execution": {
     "iopub.execute_input": "2025-08-25T23:22:25.194717Z",
     "iopub.status.busy": "2025-08-25T23:22:25.194362Z",
     "iopub.status.idle": "2025-08-25T23:22:25.356066Z",
     "shell.execute_reply": "2025-08-25T23:22:25.355411Z"
    },
    "papermill": {
     "duration": 0.168896,
     "end_time": "2025-08-25T23:22:25.357685",
     "exception": false,
     "start_time": "2025-08-25T23:22:25.188789",
     "status": "completed"
    },
    "tags": []
   },
   "outputs": [],
   "source": [
    "train_merged_df = train.merge(merged_df, on=['Store', 'Date', 'IsHoliday'])\n",
    "test_merged_df = test.merge(merged_df, on=['Store', 'Date', 'IsHoliday'])"
   ]
  },
  {
   "cell_type": "code",
   "execution_count": 11,
   "id": "7b7f0e12",
   "metadata": {
    "execution": {
     "iopub.execute_input": "2025-08-25T23:22:25.369736Z",
     "iopub.status.busy": "2025-08-25T23:22:25.369229Z",
     "iopub.status.idle": "2025-08-25T23:22:25.436877Z",
     "shell.execute_reply": "2025-08-25T23:22:25.435847Z"
    },
    "papermill": {
     "duration": 0.075391,
     "end_time": "2025-08-25T23:22:25.438690",
     "exception": false,
     "start_time": "2025-08-25T23:22:25.363299",
     "status": "completed"
    },
    "tags": []
   },
   "outputs": [],
   "source": [
    "train_merged_df['Date'] = pd.to_datetime(train_merged_df['Date'])\n",
    "test_merged_df['Date'] = pd.to_datetime(test_merged_df['Date'])"
   ]
  },
  {
   "cell_type": "code",
   "execution_count": 12,
   "id": "fb8e5b06",
   "metadata": {
    "execution": {
     "iopub.execute_input": "2025-08-25T23:22:25.450247Z",
     "iopub.status.busy": "2025-08-25T23:22:25.449952Z",
     "iopub.status.idle": "2025-08-25T23:22:25.508013Z",
     "shell.execute_reply": "2025-08-25T23:22:25.507107Z"
    },
    "papermill": {
     "duration": 0.065744,
     "end_time": "2025-08-25T23:22:25.509583",
     "exception": false,
     "start_time": "2025-08-25T23:22:25.443839",
     "status": "completed"
    },
    "tags": []
   },
   "outputs": [],
   "source": [
    "train_merged_df['day'] = train_merged_df['Date'].dt.day\n",
    "train_merged_df['month'] = train_merged_df['Date'].dt.month\n",
    "train_merged_df['year'] = train_merged_df['Date'].dt.year\n",
    "train_merged_df['dayofweek'] = train_merged_df['Date'].dt.dayofweek\n"
   ]
  },
  {
   "cell_type": "code",
   "execution_count": 13,
   "id": "95fa6bcb",
   "metadata": {
    "execution": {
     "iopub.execute_input": "2025-08-25T23:22:25.521015Z",
     "iopub.status.busy": "2025-08-25T23:22:25.520285Z",
     "iopub.status.idle": "2025-08-25T23:22:25.540369Z",
     "shell.execute_reply": "2025-08-25T23:22:25.539403Z"
    },
    "papermill": {
     "duration": 0.027109,
     "end_time": "2025-08-25T23:22:25.541904",
     "exception": false,
     "start_time": "2025-08-25T23:22:25.514795",
     "status": "completed"
    },
    "tags": []
   },
   "outputs": [],
   "source": [
    "test_merged_df['day'] = test_merged_df['Date'].dt.day\n",
    "test_merged_df['month'] = test_merged_df['Date'].dt.month\n",
    "test_merged_df['year'] = test_merged_df['Date'].dt.year\n",
    "test_merged_df['dayofweek'] = test_merged_df['Date'].dt.dayofweek"
   ]
  },
  {
   "cell_type": "code",
   "execution_count": 14,
   "id": "23d4297d",
   "metadata": {
    "execution": {
     "iopub.execute_input": "2025-08-25T23:22:25.552734Z",
     "iopub.status.busy": "2025-08-25T23:22:25.552213Z",
     "iopub.status.idle": "2025-08-25T23:22:25.566596Z",
     "shell.execute_reply": "2025-08-25T23:22:25.565416Z"
    },
    "papermill": {
     "duration": 0.021185,
     "end_time": "2025-08-25T23:22:25.567942",
     "exception": false,
     "start_time": "2025-08-25T23:22:25.546757",
     "status": "completed"
    },
    "tags": []
   },
   "outputs": [
    {
     "data": {
      "text/html": [
       "<div>\n",
       "<style scoped>\n",
       "    .dataframe tbody tr th:only-of-type {\n",
       "        vertical-align: middle;\n",
       "    }\n",
       "\n",
       "    .dataframe tbody tr th {\n",
       "        vertical-align: top;\n",
       "    }\n",
       "\n",
       "    .dataframe thead th {\n",
       "        text-align: right;\n",
       "    }\n",
       "</style>\n",
       "<table border=\"1\" class=\"dataframe\">\n",
       "  <thead>\n",
       "    <tr style=\"text-align: right;\">\n",
       "      <th></th>\n",
       "      <th>Store</th>\n",
       "      <th>Dept</th>\n",
       "      <th>Date</th>\n",
       "      <th>Weekly_Sales</th>\n",
       "      <th>IsHoliday</th>\n",
       "      <th>Temperature</th>\n",
       "      <th>Fuel_Price</th>\n",
       "      <th>CPI</th>\n",
       "      <th>Unemployment</th>\n",
       "      <th>Type</th>\n",
       "      <th>Size</th>\n",
       "      <th>day</th>\n",
       "      <th>month</th>\n",
       "      <th>year</th>\n",
       "      <th>dayofweek</th>\n",
       "    </tr>\n",
       "  </thead>\n",
       "  <tbody>\n",
       "    <tr>\n",
       "      <th>0</th>\n",
       "      <td>1</td>\n",
       "      <td>1</td>\n",
       "      <td>2010-02-05</td>\n",
       "      <td>24924.50</td>\n",
       "      <td>False</td>\n",
       "      <td>42.31</td>\n",
       "      <td>2.572</td>\n",
       "      <td>211.096358</td>\n",
       "      <td>8.106</td>\n",
       "      <td>A</td>\n",
       "      <td>151315</td>\n",
       "      <td>5</td>\n",
       "      <td>2</td>\n",
       "      <td>2010</td>\n",
       "      <td>4</td>\n",
       "    </tr>\n",
       "    <tr>\n",
       "      <th>1</th>\n",
       "      <td>1</td>\n",
       "      <td>1</td>\n",
       "      <td>2010-02-12</td>\n",
       "      <td>46039.49</td>\n",
       "      <td>True</td>\n",
       "      <td>38.51</td>\n",
       "      <td>2.548</td>\n",
       "      <td>211.242170</td>\n",
       "      <td>8.106</td>\n",
       "      <td>A</td>\n",
       "      <td>151315</td>\n",
       "      <td>12</td>\n",
       "      <td>2</td>\n",
       "      <td>2010</td>\n",
       "      <td>4</td>\n",
       "    </tr>\n",
       "    <tr>\n",
       "      <th>2</th>\n",
       "      <td>1</td>\n",
       "      <td>1</td>\n",
       "      <td>2010-02-19</td>\n",
       "      <td>41595.55</td>\n",
       "      <td>False</td>\n",
       "      <td>39.93</td>\n",
       "      <td>2.514</td>\n",
       "      <td>211.289143</td>\n",
       "      <td>8.106</td>\n",
       "      <td>A</td>\n",
       "      <td>151315</td>\n",
       "      <td>19</td>\n",
       "      <td>2</td>\n",
       "      <td>2010</td>\n",
       "      <td>4</td>\n",
       "    </tr>\n",
       "    <tr>\n",
       "      <th>3</th>\n",
       "      <td>1</td>\n",
       "      <td>1</td>\n",
       "      <td>2010-02-26</td>\n",
       "      <td>19403.54</td>\n",
       "      <td>False</td>\n",
       "      <td>46.63</td>\n",
       "      <td>2.561</td>\n",
       "      <td>211.319643</td>\n",
       "      <td>8.106</td>\n",
       "      <td>A</td>\n",
       "      <td>151315</td>\n",
       "      <td>26</td>\n",
       "      <td>2</td>\n",
       "      <td>2010</td>\n",
       "      <td>4</td>\n",
       "    </tr>\n",
       "    <tr>\n",
       "      <th>4</th>\n",
       "      <td>1</td>\n",
       "      <td>1</td>\n",
       "      <td>2010-03-05</td>\n",
       "      <td>21827.90</td>\n",
       "      <td>False</td>\n",
       "      <td>46.50</td>\n",
       "      <td>2.625</td>\n",
       "      <td>211.350143</td>\n",
       "      <td>8.106</td>\n",
       "      <td>A</td>\n",
       "      <td>151315</td>\n",
       "      <td>5</td>\n",
       "      <td>3</td>\n",
       "      <td>2010</td>\n",
       "      <td>4</td>\n",
       "    </tr>\n",
       "  </tbody>\n",
       "</table>\n",
       "</div>"
      ],
      "text/plain": [
       "   Store  Dept       Date  Weekly_Sales  IsHoliday  Temperature  Fuel_Price  \\\n",
       "0      1     1 2010-02-05      24924.50      False        42.31       2.572   \n",
       "1      1     1 2010-02-12      46039.49       True        38.51       2.548   \n",
       "2      1     1 2010-02-19      41595.55      False        39.93       2.514   \n",
       "3      1     1 2010-02-26      19403.54      False        46.63       2.561   \n",
       "4      1     1 2010-03-05      21827.90      False        46.50       2.625   \n",
       "\n",
       "          CPI  Unemployment Type    Size  day  month  year  dayofweek  \n",
       "0  211.096358         8.106    A  151315    5      2  2010          4  \n",
       "1  211.242170         8.106    A  151315   12      2  2010          4  \n",
       "2  211.289143         8.106    A  151315   19      2  2010          4  \n",
       "3  211.319643         8.106    A  151315   26      2  2010          4  \n",
       "4  211.350143         8.106    A  151315    5      3  2010          4  "
      ]
     },
     "execution_count": 14,
     "metadata": {},
     "output_type": "execute_result"
    }
   ],
   "source": [
    "train_merged_df.head()"
   ]
  },
  {
   "cell_type": "code",
   "execution_count": 15,
   "id": "fa7d7c69",
   "metadata": {
    "execution": {
     "iopub.execute_input": "2025-08-25T23:22:25.579097Z",
     "iopub.status.busy": "2025-08-25T23:22:25.578834Z",
     "iopub.status.idle": "2025-08-25T23:22:25.724979Z",
     "shell.execute_reply": "2025-08-25T23:22:25.724238Z"
    },
    "papermill": {
     "duration": 0.153522,
     "end_time": "2025-08-25T23:22:25.726666",
     "exception": false,
     "start_time": "2025-08-25T23:22:25.573144",
     "status": "completed"
    },
    "tags": []
   },
   "outputs": [],
   "source": [
    "train_merged_df = train_merged_df.sort_values(['Store', 'Dept', 'Date'])\n",
    "for lag in [1, 7, 30]:\n",
    "    train_merged_df[f'lag_{lag}'] = train_merged_df.groupby(['Store', 'Dept'])['Weekly_Sales'].shift(lag)\n"
   ]
  },
  {
   "cell_type": "code",
   "execution_count": 16,
   "id": "ccf5b8dc",
   "metadata": {
    "execution": {
     "iopub.execute_input": "2025-08-25T23:22:25.737944Z",
     "iopub.status.busy": "2025-08-25T23:22:25.737650Z",
     "iopub.status.idle": "2025-08-25T23:22:27.319997Z",
     "shell.execute_reply": "2025-08-25T23:22:27.319290Z"
    },
    "papermill": {
     "duration": 1.589728,
     "end_time": "2025-08-25T23:22:27.321633",
     "exception": false,
     "start_time": "2025-08-25T23:22:25.731905",
     "status": "completed"
    },
    "tags": []
   },
   "outputs": [],
   "source": [
    "train_merged_df['rolling_mean_7'] = train_merged_df.groupby(['Store', 'Dept'])['Weekly_Sales'].transform(lambda x: x.rolling(7, 1).mean())\n",
    "train_merged_df['rolling_std_7'] = train_merged_df.groupby(['Store', 'Dept'])['Weekly_Sales'].transform(lambda x: x.rolling(7, 1).std())"
   ]
  },
  {
   "cell_type": "code",
   "execution_count": 17,
   "id": "538005e2",
   "metadata": {
    "execution": {
     "iopub.execute_input": "2025-08-25T23:22:27.336372Z",
     "iopub.status.busy": "2025-08-25T23:22:27.335807Z",
     "iopub.status.idle": "2025-08-25T23:22:27.423094Z",
     "shell.execute_reply": "2025-08-25T23:22:27.422176Z"
    },
    "papermill": {
     "duration": 0.096183,
     "end_time": "2025-08-25T23:22:27.424760",
     "exception": false,
     "start_time": "2025-08-25T23:22:27.328577",
     "status": "completed"
    },
    "tags": []
   },
   "outputs": [],
   "source": [
    "le = LabelEncoder()\n",
    "train_merged_df['Type_encoded'] = le.fit_transform(train_merged_df['Type'])\n",
    "test_merged_df['Type_encoded'] = le.transform(test_merged_df['Type'])"
   ]
  },
  {
   "cell_type": "code",
   "execution_count": 18,
   "id": "87269117",
   "metadata": {
    "execution": {
     "iopub.execute_input": "2025-08-25T23:22:27.436625Z",
     "iopub.status.busy": "2025-08-25T23:22:27.436311Z",
     "iopub.status.idle": "2025-08-25T23:22:27.520392Z",
     "shell.execute_reply": "2025-08-25T23:22:27.519337Z"
    },
    "papermill": {
     "duration": 0.092102,
     "end_time": "2025-08-25T23:22:27.522158",
     "exception": false,
     "start_time": "2025-08-25T23:22:27.430056",
     "status": "completed"
    },
    "tags": []
   },
   "outputs": [],
   "source": [
    "train_merged_df = train_merged_df.dropna()\n"
   ]
  },
  {
   "cell_type": "code",
   "execution_count": 19,
   "id": "1facc572",
   "metadata": {
    "execution": {
     "iopub.execute_input": "2025-08-25T23:22:27.533770Z",
     "iopub.status.busy": "2025-08-25T23:22:27.533487Z",
     "iopub.status.idle": "2025-08-25T23:22:27.537306Z",
     "shell.execute_reply": "2025-08-25T23:22:27.536732Z"
    },
    "papermill": {
     "duration": 0.010961,
     "end_time": "2025-08-25T23:22:27.538564",
     "exception": false,
     "start_time": "2025-08-25T23:22:27.527603",
     "status": "completed"
    },
    "tags": []
   },
   "outputs": [],
   "source": [
    "features = ['Store', 'Dept', 'day', 'month', 'year', 'dayofweek', 'Temperature', 'Fuel_Price', 'CPI', \n",
    "            'Unemployment', 'Size', 'Type_encoded']"
   ]
  },
  {
   "cell_type": "code",
   "execution_count": 20,
   "id": "6a19438b",
   "metadata": {
    "execution": {
     "iopub.execute_input": "2025-08-25T23:22:27.549316Z",
     "iopub.status.busy": "2025-08-25T23:22:27.549047Z",
     "iopub.status.idle": "2025-08-25T23:22:27.562963Z",
     "shell.execute_reply": "2025-08-25T23:22:27.562317Z"
    },
    "papermill": {
     "duration": 0.020678,
     "end_time": "2025-08-25T23:22:27.564230",
     "exception": false,
     "start_time": "2025-08-25T23:22:27.543552",
     "status": "completed"
    },
    "tags": []
   },
   "outputs": [],
   "source": [
    "X_train = train_merged_df[features]\n",
    "y_train = train_merged_df['Weekly_Sales']\n",
    "X_test = test_merged_df[features]"
   ]
  },
  {
   "cell_type": "code",
   "execution_count": 21,
   "id": "63311771",
   "metadata": {
    "execution": {
     "iopub.execute_input": "2025-08-25T23:22:27.574918Z",
     "iopub.status.busy": "2025-08-25T23:22:27.574695Z",
     "iopub.status.idle": "2025-08-25T23:22:27.712450Z",
     "shell.execute_reply": "2025-08-25T23:22:27.711760Z"
    },
    "papermill": {
     "duration": 0.144747,
     "end_time": "2025-08-25T23:22:27.713933",
     "exception": false,
     "start_time": "2025-08-25T23:22:27.569186",
     "status": "completed"
    },
    "tags": []
   },
   "outputs": [],
   "source": [
    "imputer = SimpleImputer(strategy='mean')\n",
    "X_train_imputed = imputer.fit_transform(X_train)\n",
    "X_test_imputed = imputer.transform(X_test)"
   ]
  },
  {
   "cell_type": "code",
   "execution_count": 22,
   "id": "73537e65",
   "metadata": {
    "execution": {
     "iopub.execute_input": "2025-08-25T23:22:27.724705Z",
     "iopub.status.busy": "2025-08-25T23:22:27.724405Z",
     "iopub.status.idle": "2025-08-25T23:23:46.842453Z",
     "shell.execute_reply": "2025-08-25T23:23:46.841589Z"
    },
    "papermill": {
     "duration": 79.125208,
     "end_time": "2025-08-25T23:23:46.844024",
     "exception": false,
     "start_time": "2025-08-25T23:22:27.718816",
     "status": "completed"
    },
    "tags": []
   },
   "outputs": [
    {
     "name": "stderr",
     "output_type": "stream",
     "text": [
      "[Parallel(n_jobs=-1)]: Using backend ThreadingBackend with 4 concurrent workers.\n"
     ]
    },
    {
     "name": "stdout",
     "output_type": "stream",
     "text": [
      "building tree 1 of 100building tree 2 of 100\n",
      "building tree 3 of 100\n",
      "\n",
      "building tree 4 of 100\n",
      "building tree 5 of 100\n",
      "building tree 6 of 100\n",
      "building tree 7 of 100\n",
      "building tree 8 of 100\n",
      "building tree 9 of 100\n",
      "building tree 10 of 100\n",
      "building tree 11 of 100\n",
      "building tree 12 of 100\n",
      "building tree 13 of 100\n",
      "building tree 14 of 100\n",
      "building tree 15 of 100\n",
      "building tree 16 of 100\n",
      "building tree 17 of 100\n",
      "building tree 18 of 100\n",
      "building tree 19 of 100\n",
      "building tree 20 of 100\n",
      "building tree 21 of 100\n",
      "building tree 22 of 100\n",
      "building tree 23 of 100\n",
      "building tree 24 of 100\n",
      "building tree 25 of 100\n",
      "building tree 26 of 100\n",
      "building tree 27 of 100\n",
      "building tree 28 of 100\n",
      "building tree 29 of 100\n",
      "building tree 30 of 100\n",
      "building tree 31 of 100\n",
      "building tree 32 of 100\n",
      "building tree 33 of 100\n",
      "building tree 34 of 100\n",
      "building tree 35 of 100\n",
      "building tree 36 of 100\n",
      "building tree 37 of 100\n",
      "building tree 38 of 100\n"
     ]
    },
    {
     "name": "stderr",
     "output_type": "stream",
     "text": [
      "[Parallel(n_jobs=-1)]: Done  33 tasks      | elapsed:   27.5s\n"
     ]
    },
    {
     "name": "stdout",
     "output_type": "stream",
     "text": [
      "building tree 39 of 100\n",
      "building tree 40 of 100\n",
      "building tree 41 of 100\n",
      "building tree 42 of 100\n",
      "building tree 43 of 100\n",
      "building tree 44 of 100\n",
      "building tree 45 of 100\n",
      "building tree 46 of 100\n",
      "building tree 47 of 100\n",
      "building tree 48 of 100\n",
      "building tree 49 of 100\n",
      "building tree 50 of 100\n",
      "building tree 51 of 100\n",
      "building tree 52 of 100\n",
      "building tree 53 of 100\n",
      "building tree 54 of 100\n",
      "building tree 55 of 100\n",
      "building tree 56 of 100\n",
      "building tree 57 of 100\n",
      "building tree 58 of 100\n",
      "building tree 59 of 100\n",
      "building tree 60 of 100\n",
      "building tree 61 of 100\n",
      "building tree 62 of 100\n",
      "building tree 63 of 100\n",
      "building tree 64 of 100\n",
      "building tree 65 of 100\n",
      "building tree 66 of 100\n",
      "building tree 67 of 100\n",
      "building tree 68 of 100\n",
      "building tree 69 of 100building tree 70 of 100\n",
      "\n",
      "building tree 71 of 100\n",
      "building tree 72 of 100\n",
      "building tree 73 of 100\n",
      "building tree 74 of 100\n",
      "building tree 75 of 100\n",
      "building tree 76 of 100\n",
      "building tree 77 of 100\n",
      "building tree 78 of 100\n",
      "building tree 79 of 100\n",
      "building tree 80 of 100\n",
      "building tree 81 of 100\n",
      "building tree 82 of 100\n",
      "building tree 83 of 100\n",
      "building tree 84 of 100\n",
      "building tree 85 of 100\n",
      "building tree 86 of 100\n",
      "building tree 87 of 100\n",
      "building tree 88 of 100\n",
      "building tree 89 of 100\n",
      "building tree 90 of 100\n",
      "building tree 91 of 100\n",
      "building tree 92 of 100\n",
      "building tree 93 of 100\n",
      "building tree 94 of 100\n",
      "building tree 95 of 100\n",
      "building tree 96 of 100\n",
      "building tree 97 of 100\n",
      "building tree 98 of 100\n",
      "building tree 99 of 100\n",
      "building tree 100 of 100\n"
     ]
    },
    {
     "name": "stderr",
     "output_type": "stream",
     "text": [
      "[Parallel(n_jobs=-1)]: Done 100 out of 100 | elapsed:  1.3min finished\n"
     ]
    },
    {
     "data": {
      "text/html": [
       "<style>#sk-container-id-1 {color: black;background-color: white;}#sk-container-id-1 pre{padding: 0;}#sk-container-id-1 div.sk-toggleable {background-color: white;}#sk-container-id-1 label.sk-toggleable__label {cursor: pointer;display: block;width: 100%;margin-bottom: 0;padding: 0.3em;box-sizing: border-box;text-align: center;}#sk-container-id-1 label.sk-toggleable__label-arrow:before {content: \"▸\";float: left;margin-right: 0.25em;color: #696969;}#sk-container-id-1 label.sk-toggleable__label-arrow:hover:before {color: black;}#sk-container-id-1 div.sk-estimator:hover label.sk-toggleable__label-arrow:before {color: black;}#sk-container-id-1 div.sk-toggleable__content {max-height: 0;max-width: 0;overflow: hidden;text-align: left;background-color: #f0f8ff;}#sk-container-id-1 div.sk-toggleable__content pre {margin: 0.2em;color: black;border-radius: 0.25em;background-color: #f0f8ff;}#sk-container-id-1 input.sk-toggleable__control:checked~div.sk-toggleable__content {max-height: 200px;max-width: 100%;overflow: auto;}#sk-container-id-1 input.sk-toggleable__control:checked~label.sk-toggleable__label-arrow:before {content: \"▾\";}#sk-container-id-1 div.sk-estimator input.sk-toggleable__control:checked~label.sk-toggleable__label {background-color: #d4ebff;}#sk-container-id-1 div.sk-label input.sk-toggleable__control:checked~label.sk-toggleable__label {background-color: #d4ebff;}#sk-container-id-1 input.sk-hidden--visually {border: 0;clip: rect(1px 1px 1px 1px);clip: rect(1px, 1px, 1px, 1px);height: 1px;margin: -1px;overflow: hidden;padding: 0;position: absolute;width: 1px;}#sk-container-id-1 div.sk-estimator {font-family: monospace;background-color: #f0f8ff;border: 1px dotted black;border-radius: 0.25em;box-sizing: border-box;margin-bottom: 0.5em;}#sk-container-id-1 div.sk-estimator:hover {background-color: #d4ebff;}#sk-container-id-1 div.sk-parallel-item::after {content: \"\";width: 100%;border-bottom: 1px solid gray;flex-grow: 1;}#sk-container-id-1 div.sk-label:hover label.sk-toggleable__label {background-color: #d4ebff;}#sk-container-id-1 div.sk-serial::before {content: \"\";position: absolute;border-left: 1px solid gray;box-sizing: border-box;top: 0;bottom: 0;left: 50%;z-index: 0;}#sk-container-id-1 div.sk-serial {display: flex;flex-direction: column;align-items: center;background-color: white;padding-right: 0.2em;padding-left: 0.2em;position: relative;}#sk-container-id-1 div.sk-item {position: relative;z-index: 1;}#sk-container-id-1 div.sk-parallel {display: flex;align-items: stretch;justify-content: center;background-color: white;position: relative;}#sk-container-id-1 div.sk-item::before, #sk-container-id-1 div.sk-parallel-item::before {content: \"\";position: absolute;border-left: 1px solid gray;box-sizing: border-box;top: 0;bottom: 0;left: 50%;z-index: -1;}#sk-container-id-1 div.sk-parallel-item {display: flex;flex-direction: column;z-index: 1;position: relative;background-color: white;}#sk-container-id-1 div.sk-parallel-item:first-child::after {align-self: flex-end;width: 50%;}#sk-container-id-1 div.sk-parallel-item:last-child::after {align-self: flex-start;width: 50%;}#sk-container-id-1 div.sk-parallel-item:only-child::after {width: 0;}#sk-container-id-1 div.sk-dashed-wrapped {border: 1px dashed gray;margin: 0 0.4em 0.5em 0.4em;box-sizing: border-box;padding-bottom: 0.4em;background-color: white;}#sk-container-id-1 div.sk-label label {font-family: monospace;font-weight: bold;display: inline-block;line-height: 1.2em;}#sk-container-id-1 div.sk-label-container {text-align: center;}#sk-container-id-1 div.sk-container {/* jupyter's `normalize.less` sets `[hidden] { display: none; }` but bootstrap.min.css set `[hidden] { display: none !important; }` so we also need the `!important` here to be able to override the default hidden behavior on the sphinx rendered scikit-learn.org. See: https://github.com/scikit-learn/scikit-learn/issues/21755 */display: inline-block !important;position: relative;}#sk-container-id-1 div.sk-text-repr-fallback {display: none;}</style><div id=\"sk-container-id-1\" class=\"sk-top-container\"><div class=\"sk-text-repr-fallback\"><pre>RandomForestRegressor(n_jobs=-1, random_state=42, verbose=2)</pre><b>In a Jupyter environment, please rerun this cell to show the HTML representation or trust the notebook. <br />On GitHub, the HTML representation is unable to render, please try loading this page with nbviewer.org.</b></div><div class=\"sk-container\" hidden><div class=\"sk-item\"><div class=\"sk-estimator sk-toggleable\"><input class=\"sk-toggleable__control sk-hidden--visually\" id=\"sk-estimator-id-1\" type=\"checkbox\" checked><label for=\"sk-estimator-id-1\" class=\"sk-toggleable__label sk-toggleable__label-arrow\">RandomForestRegressor</label><div class=\"sk-toggleable__content\"><pre>RandomForestRegressor(n_jobs=-1, random_state=42, verbose=2)</pre></div></div></div></div></div>"
      ],
      "text/plain": [
       "RandomForestRegressor(n_jobs=-1, random_state=42, verbose=2)"
      ]
     },
     "execution_count": 22,
     "metadata": {},
     "output_type": "execute_result"
    }
   ],
   "source": [
    "model = RandomForestRegressor(n_estimators=100, random_state=42, verbose=2, n_jobs=-1)\n",
    "model.fit(X_train_imputed, y_train)"
   ]
  },
  {
   "cell_type": "code",
   "execution_count": 23,
   "id": "8d24dd8f",
   "metadata": {
    "execution": {
     "iopub.execute_input": "2025-08-25T23:23:46.860117Z",
     "iopub.status.busy": "2025-08-25T23:23:46.859836Z",
     "iopub.status.idle": "2025-08-25T23:23:47.571501Z",
     "shell.execute_reply": "2025-08-25T23:23:47.570650Z"
    },
    "papermill": {
     "duration": 0.721241,
     "end_time": "2025-08-25T23:23:47.573003",
     "exception": false,
     "start_time": "2025-08-25T23:23:46.851762",
     "status": "completed"
    },
    "tags": []
   },
   "outputs": [
    {
     "name": "stderr",
     "output_type": "stream",
     "text": [
      "[Parallel(n_jobs=4)]: Using backend ThreadingBackend with 4 concurrent workers.\n",
      "[Parallel(n_jobs=4)]: Done  33 tasks      | elapsed:    0.3s\n",
      "[Parallel(n_jobs=4)]: Done 100 out of 100 | elapsed:    0.7s finished\n"
     ]
    }
   ],
   "source": [
    "predictions = model.predict(X_test_imputed)"
   ]
  },
  {
   "cell_type": "code",
   "execution_count": 24,
   "id": "83e49797",
   "metadata": {
    "execution": {
     "iopub.execute_input": "2025-08-25T23:23:47.589319Z",
     "iopub.status.busy": "2025-08-25T23:23:47.589026Z",
     "iopub.status.idle": "2025-08-25T23:23:47.593964Z",
     "shell.execute_reply": "2025-08-25T23:23:47.593138Z"
    },
    "papermill": {
     "duration": 0.014336,
     "end_time": "2025-08-25T23:23:47.595205",
     "exception": false,
     "start_time": "2025-08-25T23:23:47.580869",
     "status": "completed"
    },
    "tags": []
   },
   "outputs": [
    {
     "name": "stdout",
     "output_type": "stream",
     "text": [
      "Training completed successfully\n",
      "Predictions shape: (115064,)\n",
      "Sample predictions: [32170.3042 20232.6705 24979.8827 24390.7847 30774.6688]\n"
     ]
    }
   ],
   "source": [
    "print(\"Training completed successfully\")\n",
    "print(f\"Predictions shape: {predictions.shape}\")\n",
    "print(\"Sample predictions:\", predictions[:5])"
   ]
  },
  {
   "cell_type": "code",
   "execution_count": 25,
   "id": "f7b0b1bc",
   "metadata": {
    "execution": {
     "iopub.execute_input": "2025-08-25T23:23:47.611676Z",
     "iopub.status.busy": "2025-08-25T23:23:47.611033Z",
     "iopub.status.idle": "2025-08-25T23:23:49.422285Z",
     "shell.execute_reply": "2025-08-25T23:23:49.421374Z"
    },
    "papermill": {
     "duration": 1.821122,
     "end_time": "2025-08-25T23:23:49.423827",
     "exception": false,
     "start_time": "2025-08-25T23:23:47.602705",
     "status": "completed"
    },
    "tags": []
   },
   "outputs": [
    {
     "name": "stderr",
     "output_type": "stream",
     "text": [
      "[Parallel(n_jobs=4)]: Using backend ThreadingBackend with 4 concurrent workers.\n",
      "[Parallel(n_jobs=4)]: Done  33 tasks      | elapsed:    0.6s\n"
     ]
    },
    {
     "name": "stdout",
     "output_type": "stream",
     "text": [
      "Training R2 Score: 0.9968875160263233\n"
     ]
    },
    {
     "name": "stderr",
     "output_type": "stream",
     "text": [
      "[Parallel(n_jobs=4)]: Done 100 out of 100 | elapsed:    1.7s finished\n"
     ]
    }
   ],
   "source": [
    "train_predictions = model.predict(X_train_imputed)\n",
    "train_r2 = r2_score(y_train, train_predictions)\n",
    "print(f'Training R2 Score: {train_r2}')"
   ]
  },
  {
   "cell_type": "code",
   "execution_count": null,
   "id": "7b8a7991",
   "metadata": {
    "papermill": {
     "duration": 0.00743,
     "end_time": "2025-08-25T23:23:49.439118",
     "exception": false,
     "start_time": "2025-08-25T23:23:49.431688",
     "status": "completed"
    },
    "tags": []
   },
   "outputs": [],
   "source": []
  }
 ],
 "metadata": {
  "kaggle": {
   "accelerator": "gpu",
   "dataSources": [
    {
     "datasetId": 2107830,
     "sourceId": 3502310,
     "sourceType": "datasetVersion"
    }
   ],
   "dockerImageVersionId": 31090,
   "isGpuEnabled": true,
   "isInternetEnabled": true,
   "language": "python",
   "sourceType": "notebook"
  },
  "kernelspec": {
   "display_name": "Python 3",
   "language": "python",
   "name": "python3"
  },
  "language_info": {
   "codemirror_mode": {
    "name": "ipython",
    "version": 3
   },
   "file_extension": ".py",
   "mimetype": "text/x-python",
   "name": "python",
   "nbconvert_exporter": "python",
   "pygments_lexer": "ipython3",
   "version": "3.11.13"
  },
  "papermill": {
   "default_parameters": {},
   "duration": 93.99515,
   "end_time": "2025-08-25T23:23:50.366799",
   "environment_variables": {},
   "exception": null,
   "input_path": "__notebook__.ipynb",
   "output_path": "__notebook__.ipynb",
   "parameters": {},
   "start_time": "2025-08-25T23:22:16.371649",
   "version": "2.6.0"
  }
 },
 "nbformat": 4,
 "nbformat_minor": 5
}
